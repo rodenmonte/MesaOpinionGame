{
 "cells": [
  {
   "cell_type": "code",
   "execution_count": 61,
   "metadata": {
    "collapsed": true
   },
   "outputs": [],
   "source": [
    "%matplotlib inline\n",
    "#import matplotlib\n",
    "#matplotlib.use('tkAgg')\n",
    "import numpy as np\n",
    "import matplotlib.pyplot as plt\n",
    "import potentials\n",
    "import neighbors\n",
    "from opinions import OpinionModel"
   ]
  },
  {
   "cell_type": "code",
   "execution_count": 62,
   "metadata": {},
   "outputs": [],
   "source": [
    "nsteps=500\n",
    "nagents=20\n",
    "P = []\n",
    "for i in range(nagents):\n",
    "    arr = []\n",
    "    for j in range(nagents):\n",
    "        arr.append(np.random.choice([.5, 1,-1]) * np.random.rand())\n",
    "    P.append(arr)\n",
    "neighbors = neighbors.totally_connected(nagents, self_connected=True)\n",
    "#neighbors = degree_connected(nagents, 1) #the second parameter ranges from 0 to 1, generates graphs of varying degrees of connectedness.\n",
    "opinions = [[np.random.rand(), np.random.rand()] for i in range(nagents)]\n",
    "#Also try potentials.tent(.5), potentials.tent(.3, .7), potentials.gaussian(), potentials.simple()...\n",
    "pots = [potentials.tent(.3, .7) for i in range(nagents)]\n",
    "coupling = [[1/10,-1/10],[-1/10,-1/6]] #the inverse of these values is what has effects. So matrices of large values would be similar to no coupling.\n",
    "model = OpinionModel(nagents, neighbors, opinions, pots, coupling)"
   ]
  },
  {
   "cell_type": "code",
   "execution_count": null,
   "metadata": {
    "collapsed": true
   },
   "outputs": [],
   "source": [
    "model.ALPHA = .0005\n",
    "model.run(nsteps)"
   ]
  },
  {
   "cell_type": "code",
   "execution_count": null,
   "metadata": {
    "collapsed": true
   },
   "outputs": [],
   "source": [
    "agent_opinion = model.datacollector.get_agent_vars_dataframe()"
   ]
  },
  {
   "cell_type": "code",
   "execution_count": null,
   "metadata": {},
   "outputs": [],
   "source": [
    "x=agent_opinion.Opinion0.as_matrix().reshape((nsteps, nagents))\n",
    "plt.plot(x)"
   ]
  },
  {
   "cell_type": "code",
   "execution_count": null,
   "metadata": {},
   "outputs": [],
   "source": [
    "y=agent_opinion.Opinion1.as_matrix().reshape((nsteps, nagents))\n",
    "plt.plot(y)"
   ]
  },
  {
   "cell_type": "code",
   "execution_count": null,
   "metadata": {
    "collapsed": true
   },
   "outputs": [],
   "source": []
  },
  {
   "cell_type": "code",
   "execution_count": null,
   "metadata": {
    "collapsed": true
   },
   "outputs": [],
   "source": []
  }
 ],
 "metadata": {
  "kernelspec": {
   "display_name": "Python 3",
   "language": "python",
   "name": "python3"
  },
  "language_info": {
   "codemirror_mode": {
    "name": "ipython",
    "version": 3
   },
   "file_extension": ".py",
   "mimetype": "text/x-python",
   "name": "python",
   "nbconvert_exporter": "python",
   "pygments_lexer": "ipython3",
   "version": "3.5.2"
  }
 },
 "nbformat": 4,
 "nbformat_minor": 1
}
