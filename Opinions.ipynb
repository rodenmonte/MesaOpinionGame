{
 "cells": [
  {
   "cell_type": "code",
   "execution_count": 44,
   "metadata": {
    "collapsed": true
   },
   "outputs": [],
   "source": [
    "%matplotlib inline\n",
    "#import matplotlib\n",
    "#matplotlib.use('tkAgg')\n",
    "import numpy as np\n",
    "import matplotlib.pyplot as plt\n",
    "import potentials\n",
    "import neighbors\n",
    "from opinions import OpinionModel"
   ]
  },
  {
   "cell_type": "code",
   "execution_count": 45,
   "metadata": {},
   "outputs": [],
   "source": [
    "models = []\n",
    "for i in range(20):\n",
    "    nsteps=500\n",
    "    nagents=6\n",
    "    P = []\n",
    "    for i in range(nagents):\n",
    "        arr = []\n",
    "        for j in range(nagents):\n",
    "            arr.append(-1)\n",
    "        P.append(arr)\n",
    "    neighbs = neighbors.totally_connected(nagents, self_connected=True)\n",
    "    #neighbors = degree_connected(nagents, 1) #the second parameter ranges from 0 to 1, generates graphs of varying degrees of connectedness.\n",
    "    opinions = [[np.random.rand(), np.random.rand()] for i in range(nagents)]\n",
    "    #Also try potentials.tent(.5), potentials.tent(.3, .7), potentials.gaussian(), potentials.simple()...\n",
    "    pots = [potentials.tent(1) for i in range(nagents)]\n",
    "    coupling = [[1,0],[0,1]] #the inverse of these values is what has effects. So matrices of large values would be similar to no coupling.\n",
    "    model = OpinionModel(nagents, neighbs, opinions, pots, coupling)\n",
    "    models.append(model)"
   ]
  },
  {
   "cell_type": "code",
   "execution_count": 46,
   "metadata": {
    "collapsed": true
   },
   "outputs": [],
   "source": [
    "#Takes about 2 minutes to run 20 tests.\n",
    "for model in models:\n",
    "    model.ALPHA = .001\n",
    "    model.run(nsteps)"
   ]
  },
  {
   "cell_type": "code",
   "execution_count": 47,
   "metadata": {
    "collapsed": true
   },
   "outputs": [],
   "source": [
    "agent_opinions = []\n",
    "for model in models:\n",
    "    agent_opinion = model.datacollector.get_agent_vars_dataframe()\n",
    "    agent_opinions.append(agent_opinion)"
   ]
  },
  {
   "cell_type": "code",
   "execution_count": 48,
   "metadata": {},
   "outputs": [
    {
     "data": {
      "text/plain": [
       "[<matplotlib.lines.Line2D at 0x7f317d6586d8>,\n",
       " <matplotlib.lines.Line2D at 0x7f317d658198>,\n",
       " <matplotlib.lines.Line2D at 0x7f317d6585f8>,\n",
       " <matplotlib.lines.Line2D at 0x7f317d658d30>,\n",
       " <matplotlib.lines.Line2D at 0x7f317d658a58>,\n",
       " <matplotlib.lines.Line2D at 0x7f317d658080>]"
      ]
     },
     "execution_count": 48,
     "metadata": {},
     "output_type": "execute_result"
    },
    {
     "data": {
      "image/png": "[encoded data removed]",
      "text/plain": [
       "<matplotlib.figure.Figure at 0x7f317d2e52e8>"
      ]
     },
     "metadata": {},
     "output_type": "display_data"
    }
   ],
   "source": [
    "x=agent_opinions[0].Opinion0.as_matrix().reshape((nsteps, nagents))\n",
    "plt.plot(x)"
   ]
  },
  {
   "cell_type": "code",
   "execution_count": 49,
   "metadata": {},
   "outputs": [
    {
     "data": {
      "text/plain": [
       "[<matplotlib.lines.Line2D at 0x7f317fafcda0>,\n",
       " <matplotlib.lines.Line2D at 0x7f317fafc8d0>,\n",
       " <matplotlib.lines.Line2D at 0x7f317fafcac8>,\n",
       " <matplotlib.lines.Line2D at 0x7f317fafc208>,\n",
       " <matplotlib.lines.Line2D at 0x7f317fafc438>,\n",
       " <matplotlib.lines.Line2D at 0x7f317fafc630>]"
      ]
     },
     "execution_count": 49,
     "metadata": {},
     "output_type": "execute_result"
    },
    {
     "data": {
      "image/png": "[encoded data removed]",
      "text/plain": [
       "<matplotlib.figure.Figure at 0x7f317d59ce10>"
      ]
     },
     "metadata": {},
     "output_type": "display_data"
    }
   ],
   "source": [
    "y=agent_opinions[0].Opinion1.as_matrix().reshape((nsteps, nagents))\n",
    "plt.plot(y)"
   ]
  },
  {
   "cell_type": "code",
   "execution_count": null,
   "metadata": {
    "collapsed": true
   },
   "outputs": [],
   "source": []
  },
  {
   "cell_type": "code",
   "execution_count": null,
   "metadata": {
    "collapsed": true
   },
   "outputs": [],
   "source": []
  }
 ],
 "metadata": {
  "kernelspec": {
   "display_name": "Python 3",
   "language": "python",
   "name": "python3"
  },
  "language_info": {
   "codemirror_mode": {
    "name": "ipython",
    "version": 3
   },
   "file_extension": ".py",
   "mimetype": "text/x-python",
   "name": "python",
   "nbconvert_exporter": "python",
   "pygments_lexer": "ipython3",
   "version": "3.5.2"
  }
 },
 "nbformat": 4,
 "nbformat_minor": 1
}
