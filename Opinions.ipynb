{
 "cells": [
  {
   "cell_type": "code",
   "execution_count": 1,
   "metadata": {
    "collapsed": true
   },
   "outputs": [],
   "source": [
    "%matplotlib inline\n",
    "#import matplotlib\n",
    "#matplotlib.use('tkAgg')\n",
    "import matplotlib.pyplot as plt\n",
    "from opinions import OpinionModel"
   ]
  },
  {
   "cell_type": "code",
   "execution_count": 2,
   "metadata": {},
   "outputs": [],
   "source": [
    "nsteps=500\n",
    "nagents=20\n",
    "model = OpinionModel(nagents)"
   ]
  },
  {
   "cell_type": "code",
   "execution_count": 3,
   "metadata": {
    "collapsed": true
   },
   "outputs": [],
   "source": [
    "for i in range(nsteps):\n",
    "    model.step()"
   ]
  },
  {
   "cell_type": "code",
   "execution_count": 4,
   "metadata": {},
   "outputs": [
    {
     "name": "stdout",
     "output_type": "stream",
     "text": [
      "              Opinion1  Opinion0\n",
      "Step AgentID                    \n",
      "0    0             0.4  0.543583\n",
      "     1             0.4  0.007395\n",
      "     2             0.4  0.979323\n",
      "     3             0.4  0.945972\n",
      "     4             0.4  0.806489\n",
      "     5             0.4  0.552519\n",
      "     6             0.4  0.074001\n",
      "     7             0.4  0.722051\n",
      "     8             0.4  0.544962\n",
      "     9             0.4  0.151055\n",
      "     10            0.4  0.796798\n",
      "     11            0.4  0.601256\n",
      "     12            0.4  0.885377\n",
      "     13            0.4  0.962919\n",
      "     14            0.4  0.755974\n",
      "     15            0.4  0.105483\n",
      "     16            0.4  0.302488\n",
      "     17            0.4  0.263998\n",
      "     18            0.4  0.935580\n",
      "     19            0.4  0.684175\n",
      "1    0             0.4  0.552583\n",
      "     1             0.4 -0.001605\n",
      "     2             0.4  0.972323\n",
      "     3             0.4  0.942972\n",
      "     4             0.4  0.809489\n",
      "     5             0.4  0.557519\n",
      "     6             0.4  0.069001\n",
      "     7             0.4  0.727051\n",
      "     8             0.4  0.551962\n",
      "     9             0.4  0.144055\n",
      "...                ...       ...\n",
      "498  10            0.4  3.722798\n",
      "     11            0.4  3.729256\n",
      "     12            0.4  3.725377\n",
      "     13            0.4  3.722919\n",
      "     14            0.4  3.719974\n",
      "     15            0.4 -6.754517\n",
      "     16            0.4 -6.755512\n",
      "     17            0.4 -6.758002\n",
      "     18            0.4  3.727580\n",
      "     19            0.4  3.724175\n",
      "499  0             0.4  3.726583\n",
      "     1             0.4 -6.769605\n",
      "     2             0.4  3.732323\n",
      "     3             0.4  3.728972\n",
      "     4             0.4  3.737489\n",
      "     5             0.4  3.725519\n",
      "     6             0.4 -6.768999\n",
      "     7             0.4  3.737051\n",
      "     8             0.4  3.725962\n",
      "     9             0.4 -6.771945\n",
      "     10            0.4  3.735798\n",
      "     11            0.4  3.728256\n",
      "     12            0.4  3.730377\n",
      "     13            0.4  3.733919\n",
      "     14            0.4  3.738974\n",
      "     15            0.4 -6.771517\n",
      "     16            0.4 -6.770512\n",
      "     17            0.4 -6.769002\n",
      "     18            0.4  3.728580\n",
      "     19            0.4  3.733175\n",
      "\n",
      "[10000 rows x 2 columns]\n"
     ]
    }
   ],
   "source": [
    "agent_opinion = model.datacollector.get_agent_vars_dataframe()\n",
    "print(agent_opinion)"
   ]
  },
  {
   "cell_type": "code",
   "execution_count": 5,
   "metadata": {},
   "outputs": [],
   "source": [
    "x=agent_opinion.Opinion0.as_matrix().reshape((nsteps, nagents))"
   ]
  },
  {
   "cell_type": "code",
   "execution_count": 6,
   "metadata": {},
   "outputs": [
    {
     "name": "stdout",
     "output_type": "stream",
     "text": [
      "0.4\n",
      "3.741583129182881\n",
      "[3.741583129182881, 0.4]\n"
     ]
    }
   ],
   "source": [
    "print(model.schedule.agents[1].opinions[1])\n",
    "print(model.datacollector.agent_reporters[\"Opinion0\"](model.schedule.agents[0]))\n",
    "print(model.schedule.agents[0].opinions)"
   ]
  },
  {
   "cell_type": "code",
   "execution_count": 7,
   "metadata": {},
   "outputs": [
    {
     "data": {
      "text/plain": [
       "[<matplotlib.lines.Line2D at 0x7f95fe8653c8>,\n",
       " <matplotlib.lines.Line2D at 0x7f95fe865668>,\n",
       " <matplotlib.lines.Line2D at 0x7f95fe865860>,\n",
       " <matplotlib.lines.Line2D at 0x7f95fe865a58>,\n",
       " <matplotlib.lines.Line2D at 0x7f95fe865c50>,\n",
       " <matplotlib.lines.Line2D at 0x7f95fe865e48>,\n",
       " <matplotlib.lines.Line2D at 0x7f95fe860080>,\n",
       " <matplotlib.lines.Line2D at 0x7f95fe860278>,\n",
       " <matplotlib.lines.Line2D at 0x7f95fe860470>,\n",
       " <matplotlib.lines.Line2D at 0x7f95fe860668>,\n",
       " <matplotlib.lines.Line2D at 0x7f95fe860860>,\n",
       " <matplotlib.lines.Line2D at 0x7f95fe860a58>,\n",
       " <matplotlib.lines.Line2D at 0x7f95fe860c50>,\n",
       " <matplotlib.lines.Line2D at 0x7f95fe860e48>,\n",
       " <matplotlib.lines.Line2D at 0x7f95fe853080>,\n",
       " <matplotlib.lines.Line2D at 0x7f95fe853278>,\n",
       " <matplotlib.lines.Line2D at 0x7f95fe853470>,\n",
       " <matplotlib.lines.Line2D at 0x7f95fe853668>,\n",
       " <matplotlib.lines.Line2D at 0x7f95fe853860>,\n",
       " <matplotlib.lines.Line2D at 0x7f95fe853a58>]"
      ]
     },
     "execution_count": 7,
     "metadata": {},
     "output_type": "execute_result"
    },
    {
     "data": {
      "image/png": "[encoded data removed]",
      "text/plain": [
       "<matplotlib.figure.Figure at 0x7f962c2624e0>"
      ]
     },
     "metadata": {},
     "output_type": "display_data"
    }
   ],
   "source": [
    "plt.plot(x)"
   ]
  },
  {
   "cell_type": "code",
   "execution_count": null,
   "metadata": {
    "collapsed": true
   },
   "outputs": [],
   "source": []
  },
  {
   "cell_type": "code",
   "execution_count": 4,
   "metadata": {},
   "outputs": [
    {
     "name": "stdout",
     "output_type": "stream",
     "text": [
      "\n"
     ]
    }
   ],
   "source": []
  }
 ],
 "metadata": {
  "kernelspec": {
   "display_name": "Python 3",
   "language": "python",
   "name": "python3"
  },
  "language_info": {
   "codemirror_mode": {
    "name": "ipython",
    "version": 3
   },
   "file_extension": ".py",
   "mimetype": "text/x-python",
   "name": "python",
   "nbconvert_exporter": "python",
   "pygments_lexer": "ipython3",
   "version": "3.5.2"
  }
 },
 "nbformat": 4,
 "nbformat_minor": 1
}
