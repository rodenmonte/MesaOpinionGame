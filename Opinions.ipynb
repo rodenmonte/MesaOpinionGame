{
 "cells": [
  {
   "cell_type": "code",
   "execution_count": 61,
   "metadata": {
    "collapsed": true
   },
   "outputs": [],
   "source": [
    "%matplotlib inline\n",
    "#import matplotlib\n",
    "#matplotlib.use('tkAgg')\n",
    "import numpy as np\n",
    "import matplotlib.pyplot as plt\n",
    "import potentials\n",
    "import neighbors\n",
    "from opinions import OpinionModel"
   ]
  },
  {
   "cell_type": "code",
   "execution_count": 62,
   "metadata": {},
   "outputs": [],
   "source": [
    "nsteps=500\n",
    "nagents=20\n",
    "P = []\n",
    "for i in range(nagents):\n",
    "    arr = []\n",
    "    for j in range(nagents):\n",
    "        arr.append(np.random.choice([.5, 1,-1]) * np.random.rand())\n",
    "    P.append(arr)\n",
    "neighbors = neighbors.totally_connected(nagents, self_connected=True)\n",
    "#neighbors = degree_connected(nagents, 1) #the second parameter ranges from 0 to 1, generates graphs of varying degrees of connectedness.\n",
    "opinions = [[np.random.rand(), np.random.rand()] for i in range(nagents)]\n",
    "#Also try potentials.tent(.5), potentials.tent(.3, .7), potentials.gaussian(), potentials.simple()...\n",
    "pots = [potentials.tent(.5) for i in range(nagents)]\n",
    "coupling = [[1000000,100000],[100000,100000]] #the inverse of these values is what has effects. So matrices of large values would be similar to no coupling.\n",
    "model = OpinionModel(nagents, neighbors, opinions, pots, coupling)"
   ]
  },
  {
   "cell_type": "code",
   "execution_count": 63,
   "metadata": {},
   "outputs": [],
   "source": [
    "model.ALPHA = .01\n",
    "model.run(nsteps)"
   ]
  },
  {
   "cell_type": "code",
   "execution_count": 64,
   "metadata": {
    "collapsed": true
   },
   "outputs": [],
   "source": [
    "agent_opinion = model.datacollector.get_agent_vars_dataframe()"
   ]
  },
  {
   "cell_type": "code",
   "execution_count": 65,
   "metadata": {},
   "outputs": [
    {
     "data": {
      "text/plain": [
       "[<matplotlib.lines.Line2D at 0x7f3ceb6607b8>,\n",
       " <matplotlib.lines.Line2D at 0x7f3ceb660a58>,\n",
       " <matplotlib.lines.Line2D at 0x7f3ceb660c50>,\n",
       " <matplotlib.lines.Line2D at 0x7f3ceb660e48>,\n",
       " <matplotlib.lines.Line2D at 0x7f3ceb658080>,\n",
       " <matplotlib.lines.Line2D at 0x7f3ceb658278>,\n",
       " <matplotlib.lines.Line2D at 0x7f3ceb658470>,\n",
       " <matplotlib.lines.Line2D at 0x7f3ceb658668>,\n",
       " <matplotlib.lines.Line2D at 0x7f3ceb658860>,\n",
       " <matplotlib.lines.Line2D at 0x7f3ceb658a58>,\n",
       " <matplotlib.lines.Line2D at 0x7f3ceb658c50>,\n",
       " <matplotlib.lines.Line2D at 0x7f3ceb658e48>,\n",
       " <matplotlib.lines.Line2D at 0x7f3ce92fc080>,\n",
       " <matplotlib.lines.Line2D at 0x7f3ce92fc278>,\n",
       " <matplotlib.lines.Line2D at 0x7f3ce92fc470>,\n",
       " <matplotlib.lines.Line2D at 0x7f3ce92fc668>,\n",
       " <matplotlib.lines.Line2D at 0x7f3ce92fc860>,\n",
       " <matplotlib.lines.Line2D at 0x7f3ce92fca58>,\n",
       " <matplotlib.lines.Line2D at 0x7f3ce92fcc50>,\n",
       " <matplotlib.lines.Line2D at 0x7f3ce92fce48>]"
      ]
     },
     "execution_count": 65,
     "metadata": {},
     "output_type": "execute_result"
    },
    {
     "data": {
      "image/png": "[encoded data removed]",
      "text/plain": [
       "<matplotlib.figure.Figure at 0x7f3ce92d0a90>"
      ]
     },
     "metadata": {},
     "output_type": "display_data"
    }
   ],
   "source": [
    "x=agent_opinion.Opinion0.as_matrix().reshape((nsteps, nagents))\n",
    "plt.plot(x)"
   ]
  },
  {
   "cell_type": "code",
   "execution_count": 66,
   "metadata": {},
   "outputs": [
    {
     "data": {
      "text/plain": [
       "[<matplotlib.lines.Line2D at 0x7f3ce80ba4a8>,\n",
       " <matplotlib.lines.Line2D at 0x7f3ce80ba748>,\n",
       " <matplotlib.lines.Line2D at 0x7f3ce80ba940>,\n",
       " <matplotlib.lines.Line2D at 0x7f3ce80bab38>,\n",
       " <matplotlib.lines.Line2D at 0x7f3ce80bad30>,\n",
       " <matplotlib.lines.Line2D at 0x7f3ce80baf28>,\n",
       " <matplotlib.lines.Line2D at 0x7f3ce80cd160>,\n",
       " <matplotlib.lines.Line2D at 0x7f3ce80cd358>,\n",
       " <matplotlib.lines.Line2D at 0x7f3ce80cd550>,\n",
       " <matplotlib.lines.Line2D at 0x7f3ce80cd748>,\n",
       " <matplotlib.lines.Line2D at 0x7f3ce80cd940>,\n",
       " <matplotlib.lines.Line2D at 0x7f3ce80cdb38>,\n",
       " <matplotlib.lines.Line2D at 0x7f3ce80cdd30>,\n",
       " <matplotlib.lines.Line2D at 0x7f3ce80cdf28>,\n",
       " <matplotlib.lines.Line2D at 0x7f3ce80df160>,\n",
       " <matplotlib.lines.Line2D at 0x7f3ce80df358>,\n",
       " <matplotlib.lines.Line2D at 0x7f3ce80df550>,\n",
       " <matplotlib.lines.Line2D at 0x7f3ce80df748>,\n",
       " <matplotlib.lines.Line2D at 0x7f3ce80df940>,\n",
       " <matplotlib.lines.Line2D at 0x7f3ce80dfb38>]"
      ]
     },
     "execution_count": 66,
     "metadata": {},
     "output_type": "execute_result"
    },
    {
     "data": {
      "image/png": "[encoded data removed]",
      "text/plain": [
       "<matplotlib.figure.Figure at 0x7f3ce92467b8>"
      ]
     },
     "metadata": {},
     "output_type": "display_data"
    }
   ],
   "source": [
    "y=agent_opinion.Opinion1.as_matrix().reshape((nsteps, nagents))\n",
    "plt.plot(y)"
   ]
  },
  {
   "cell_type": "code",
   "execution_count": null,
   "metadata": {
    "collapsed": true
   },
   "outputs": [],
   "source": []
  }
 ],
 "metadata": {
  "kernelspec": {
   "display_name": "Python 3",
   "language": "python",
   "name": "python3"
  },
  "language_info": {
   "codemirror_mode": {
    "name": "ipython",
    "version": 3
   },
   "file_extension": ".py",
   "mimetype": "text/x-python",
   "name": "python",
   "nbconvert_exporter": "python",
   "pygments_lexer": "ipython3",
   "version": "3.5.2"
  }
 },
 "nbformat": 4,
 "nbformat_minor": 1
}
