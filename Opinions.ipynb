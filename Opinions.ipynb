{
 "cells": [
  {
   "cell_type": "code",
   "execution_count": 7,
   "metadata": {},
   "outputs": [],
   "source": [
    "%matplotlib inline\n",
    "#import matplotlib\n",
    "#matplotlib.use('tkAgg')\n",
    "import matplotlib.pyplot as plt\n",
    "from opinions import OpinionModel"
   ]
  },
  {
   "cell_type": "code",
   "execution_count": 8,
   "metadata": {},
   "outputs": [],
   "source": [
    "nsteps=500\n",
    "nagents=20\n",
    "model = OpinionModel(nagents)"
   ]
  },
  {
   "cell_type": "code",
   "execution_count": 9,
   "metadata": {},
   "outputs": [],
   "source": [
    "for i in range(nsteps):\n",
    "    model.step()"
   ]
  },
  {
   "cell_type": "code",
   "execution_count": 10,
   "metadata": {
    "collapsed": true
   },
   "outputs": [],
   "source": [
    "agent_opinion = model.datacollector.get_agent_vars_dataframe()"
   ]
  },
  {
   "cell_type": "code",
   "execution_count": 11,
   "metadata": {
    "collapsed": true
   },
   "outputs": [],
   "source": [
    "x=agent_opinion.as_matrix().reshape((nsteps,nagents))"
   ]
  },
  {
   "cell_type": "code",
   "execution_count": 12,
   "metadata": {},
   "outputs": [
    {
     "data": {
      "text/plain": [
       "[<matplotlib.lines.Line2D at 0x7efbc03945c0>,\n",
       " <matplotlib.lines.Line2D at 0x7efbc0394860>,\n",
       " <matplotlib.lines.Line2D at 0x7efbc0394a58>,\n",
       " <matplotlib.lines.Line2D at 0x7efbc0394c50>,\n",
       " <matplotlib.lines.Line2D at 0x7efbc0394e48>,\n",
       " <matplotlib.lines.Line2D at 0x7efbc0390080>,\n",
       " <matplotlib.lines.Line2D at 0x7efbc0390278>,\n",
       " <matplotlib.lines.Line2D at 0x7efbc0390470>,\n",
       " <matplotlib.lines.Line2D at 0x7efbc0390668>,\n",
       " <matplotlib.lines.Line2D at 0x7efbc0390860>,\n",
       " <matplotlib.lines.Line2D at 0x7efbc0390a58>,\n",
       " <matplotlib.lines.Line2D at 0x7efbc0390c50>,\n",
       " <matplotlib.lines.Line2D at 0x7efbc0390e48>,\n",
       " <matplotlib.lines.Line2D at 0x7efbc03ba080>,\n",
       " <matplotlib.lines.Line2D at 0x7efbc03ba278>,\n",
       " <matplotlib.lines.Line2D at 0x7efbc03ba470>,\n",
       " <matplotlib.lines.Line2D at 0x7efbc03ba668>,\n",
       " <matplotlib.lines.Line2D at 0x7efbc03ba860>,\n",
       " <matplotlib.lines.Line2D at 0x7efbc03baa58>,\n",
       " <matplotlib.lines.Line2D at 0x7efbc03bac50>]"
      ]
     },
     "execution_count": 12,
     "metadata": {},
     "output_type": "execute_result"
    },
    {
     "data": {
      "image/png": "[encoded data removed]",
      "text/plain": [
       "<matplotlib.figure.Figure at 0x7efbed622390>"
      ]
     },
     "metadata": {},
     "output_type": "display_data"
    }
   ],
   "source": [
    "plt.plot(x)"
   ]
  },
  {
   "cell_type": "code",
   "execution_count": null,
   "metadata": {
    "collapsed": true
   },
   "outputs": [],
   "source": []
  }
 ],
 "metadata": {
  "kernelspec": {
   "display_name": "Python 3",
   "language": "python",
   "name": "python3"
  },
  "language_info": {
   "codemirror_mode": {
    "name": "ipython",
    "version": 3
   },
   "file_extension": ".py",
   "mimetype": "text/x-python",
   "name": "python",
   "nbconvert_exporter": "python",
   "pygments_lexer": "ipython3",
   "version": "3.5.2"
  }
 },
 "nbformat": 4,
 "nbformat_minor": 1
}
