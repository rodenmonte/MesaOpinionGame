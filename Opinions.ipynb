{
 "cells": [
  {
   "cell_type": "code",
   "execution_count": 1,
   "metadata": {
    "collapsed": true
   },
   "outputs": [],
   "source": [
    "%matplotlib inline\n",
    "#import matplotlib\n",
    "#matplotlib.use('tkAgg')\n",
    "import matplotlib.pyplot as plt\n",
    "from opinions import OpinionModel\n",
    "from neighbors import totally_connected"
   ]
  },
  {
   "cell_type": "code",
   "execution_count": 2,
   "metadata": {},
   "outputs": [
    {
     "ename": "TypeError",
     "evalue": "totally_connected() missing 1 required positional argument: 'N'",
     "output_type": "error",
     "traceback": [
      "\u001b[0;31m---------------------------------------------------------------------------\u001b[0m",
      "\u001b[0;31mTypeError\u001b[0m                                 Traceback (most recent call last)",
      "\u001b[0;32m<ipython-input-2-29ba6ea3dfe5>\u001b[0m in \u001b[0;36m<module>\u001b[0;34m()\u001b[0m\n\u001b[1;32m      1\u001b[0m \u001b[0mnsteps\u001b[0m\u001b[0;34m=\u001b[0m\u001b[0;36m500\u001b[0m\u001b[0;34m\u001b[0m\u001b[0m\n\u001b[1;32m      2\u001b[0m \u001b[0mnagents\u001b[0m\u001b[0;34m=\u001b[0m\u001b[0;36m20\u001b[0m\u001b[0;34m\u001b[0m\u001b[0m\n\u001b[0;32m----> 3\u001b[0;31m \u001b[0mneighbors\u001b[0m \u001b[0;34m=\u001b[0m \u001b[0mtotally_connected\u001b[0m\u001b[0;34m(\u001b[0m\u001b[0mnagents\u001b[0m\u001b[0;34m)\u001b[0m\u001b[0;34m\u001b[0m\u001b[0m\n\u001b[0m\u001b[1;32m      4\u001b[0m \u001b[0mmodel\u001b[0m \u001b[0;34m=\u001b[0m \u001b[0mOpinionModel\u001b[0m\u001b[0;34m(\u001b[0m\u001b[0mnagents\u001b[0m\u001b[0;34m,\u001b[0m \u001b[0mneighbors\u001b[0m\u001b[0;34m)\u001b[0m\u001b[0;34m\u001b[0m\u001b[0m\n",
      "\u001b[0;31mTypeError\u001b[0m: totally_connected() missing 1 required positional argument: 'N'"
     ]
    }
   ],
   "source": [
    "nsteps=500\n",
    "nagents=20\n",
    "neighbors = totally_connected(nagents)\n",
    "model = OpinionModel(nagents, neighbors)"
   ]
  },
  {
   "cell_type": "code",
   "execution_count": 8,
   "metadata": {
    "collapsed": true
   },
   "outputs": [],
   "source": [
    "for i in range(nsteps):\n",
    "    model.step()"
   ]
  },
  {
   "cell_type": "code",
   "execution_count": 9,
   "metadata": {},
   "outputs": [],
   "source": [
    "agent_opinion = model.datacollector.get_agent_vars_dataframe()"
   ]
  },
  {
   "cell_type": "code",
   "execution_count": 10,
   "metadata": {},
   "outputs": [
    {
     "data": {
      "text/plain": [
       "[<matplotlib.lines.Line2D at 0x7fe5438c7940>,\n",
       " <matplotlib.lines.Line2D at 0x7fe5438c7be0>,\n",
       " <matplotlib.lines.Line2D at 0x7fe5438c7dd8>,\n",
       " <matplotlib.lines.Line2D at 0x7fe5438c7fd0>,\n",
       " <matplotlib.lines.Line2D at 0x7fe5438c9208>,\n",
       " <matplotlib.lines.Line2D at 0x7fe5438c9400>,\n",
       " <matplotlib.lines.Line2D at 0x7fe5438c95f8>,\n",
       " <matplotlib.lines.Line2D at 0x7fe5438c97f0>,\n",
       " <matplotlib.lines.Line2D at 0x7fe5438c99e8>,\n",
       " <matplotlib.lines.Line2D at 0x7fe5438c9be0>,\n",
       " <matplotlib.lines.Line2D at 0x7fe5438c9dd8>,\n",
       " <matplotlib.lines.Line2D at 0x7fe5438c9fd0>,\n",
       " <matplotlib.lines.Line2D at 0x7fe5438db208>,\n",
       " <matplotlib.lines.Line2D at 0x7fe5438db400>,\n",
       " <matplotlib.lines.Line2D at 0x7fe5438db5f8>,\n",
       " <matplotlib.lines.Line2D at 0x7fe5438db7f0>,\n",
       " <matplotlib.lines.Line2D at 0x7fe5438db9e8>,\n",
       " <matplotlib.lines.Line2D at 0x7fe5438dbbe0>,\n",
       " <matplotlib.lines.Line2D at 0x7fe5438dbdd8>,\n",
       " <matplotlib.lines.Line2D at 0x7fe5438dbfd0>]"
      ]
     },
     "execution_count": 10,
     "metadata": {},
     "output_type": "execute_result"
    },
    {
     "data": {
      "image/png": "[encoded data removed]",
      "text/plain": [
       "<matplotlib.figure.Figure at 0x7fe545ca5f98>"
      ]
     },
     "metadata": {},
     "output_type": "display_data"
    }
   ],
   "source": [
    "x=agent_opinion.Opinion0.as_matrix().reshape((nsteps, nagents))\n",
    "plt.plot(x)"
   ]
  },
  {
   "cell_type": "code",
   "execution_count": null,
   "metadata": {
    "collapsed": true
   },
   "outputs": [],
   "source": []
  }
 ],
 "metadata": {
  "kernelspec": {
   "display_name": "Python 3",
   "language": "python",
   "name": "python3"
  },
  "language_info": {
   "codemirror_mode": {
    "name": "ipython",
    "version": 3
   },
   "file_extension": ".py",
   "mimetype": "text/x-python",
   "name": "python",
   "nbconvert_exporter": "python",
   "pygments_lexer": "ipython3",
   "version": "3.5.2"
  }
 },
 "nbformat": 4,
 "nbformat_minor": 1
}
