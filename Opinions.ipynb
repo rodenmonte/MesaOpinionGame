{
 "cells": [
  {
   "cell_type": "code",
   "execution_count": 1,
   "metadata": {
    "collapsed": true
   },
   "outputs": [],
   "source": [
    "%matplotlib inline\n",
    "#import matplotlib\n",
    "#matplotlib.use('tkAgg')\n",
    "import matplotlib.pyplot as plt\n",
    "from opinions import OpinionModel"
   ]
  },
  {
   "cell_type": "code",
   "execution_count": 2,
   "metadata": {},
   "outputs": [],
   "source": [
    "nsteps=500\n",
    "nagents=20\n",
    "model = OpinionModel(nagents)"
   ]
  },
  {
   "cell_type": "code",
   "execution_count": 3,
   "metadata": {
    "collapsed": true
   },
   "outputs": [],
   "source": [
    "for i in range(nsteps):\n",
    "    model.step()"
   ]
  },
  {
   "cell_type": "code",
   "execution_count": 4,
   "metadata": {},
   "outputs": [
    {
     "name": "stdout",
     "output_type": "stream",
     "text": [
      "              Opinion1  Opinion0\n",
      "Step AgentID                    \n",
      "0    0             0.4  0.099050\n",
      "     1             0.4  0.435942\n",
      "     2             0.4  0.103718\n",
      "     3             0.4  0.313486\n",
      "     4             0.4  0.033833\n",
      "     5             0.4  0.116803\n",
      "     6             0.4  0.163385\n",
      "     7             0.4  0.362735\n",
      "     8             0.4  0.723986\n",
      "     9             0.4  0.524281\n",
      "     10            0.4  0.813320\n",
      "     11            0.4  0.729824\n",
      "     12            0.4  0.153139\n",
      "     13            0.4  0.770126\n",
      "     14            0.4  0.583834\n",
      "     15            0.4  0.086877\n",
      "     16            0.4  0.650737\n",
      "     17            0.4  0.187552\n",
      "     18            0.4  0.718500\n",
      "     19            0.4  0.490088\n",
      "1    0             0.4  0.102050\n",
      "     1             0.4  0.434942\n",
      "     2             0.4  0.104718\n",
      "     3             0.4  0.316486\n",
      "     4             0.4  0.038833\n",
      "     5             0.4  0.115803\n",
      "     6             0.4  0.160385\n",
      "     7             0.4  0.363735\n",
      "     8             0.4  0.726986\n",
      "     9             0.4  0.519281\n",
      "...                ...       ...\n",
      "498  10            0.4  1.000000\n",
      "     11            0.4  1.000000\n",
      "     12            0.4  0.001000\n",
      "     13            0.4  1.000000\n",
      "     14            0.4  0.001000\n",
      "     15            0.4  0.001000\n",
      "     16            0.4  1.000000\n",
      "     17            0.4  0.001000\n",
      "     18            0.4  1.000000\n",
      "     19            0.4  0.000000\n",
      "499  0             0.4  0.000000\n",
      "     1             0.4  0.000000\n",
      "     2             0.4  0.000000\n",
      "     3             0.4  0.000000\n",
      "     4             0.4  0.000000\n",
      "     5             0.4  0.000000\n",
      "     6             0.4  0.000000\n",
      "     7             0.4  0.000000\n",
      "     8             0.4  1.000000\n",
      "     9             0.4  0.000000\n",
      "     10            0.4  1.000000\n",
      "     11            0.4  1.000000\n",
      "     12            0.4  0.000000\n",
      "     13            0.4  1.000000\n",
      "     14            0.4  0.000000\n",
      "     15            0.4  0.000000\n",
      "     16            0.4  1.000000\n",
      "     17            0.4  0.000000\n",
      "     18            0.4  1.000000\n",
      "     19            0.4  0.007000\n",
      "\n",
      "[10000 rows x 2 columns]\n"
     ]
    }
   ],
   "source": [
    "agent_opinion = model.datacollector.get_agent_vars_dataframe()"
   ]
  },
  {
   "cell_type": "code",
   "execution_count": 6,
   "metadata": {},
   "outputs": [
    {
     "data": {
      "text/plain": [
       "[<matplotlib.lines.Line2D at 0x7fb9ab1e88d0>,\n",
       " <matplotlib.lines.Line2D at 0x7fb9ab1e8b70>,\n",
       " <matplotlib.lines.Line2D at 0x7fb9ab1e8d68>,\n",
       " <matplotlib.lines.Line2D at 0x7fb9ab1e8f60>,\n",
       " <matplotlib.lines.Line2D at 0x7fb9ab1ee198>,\n",
       " <matplotlib.lines.Line2D at 0x7fb9ab1ee390>,\n",
       " <matplotlib.lines.Line2D at 0x7fb9ab1ee588>,\n",
       " <matplotlib.lines.Line2D at 0x7fb9ab1ee780>,\n",
       " <matplotlib.lines.Line2D at 0x7fb9ab1ee978>,\n",
       " <matplotlib.lines.Line2D at 0x7fb9ab1eeb70>,\n",
       " <matplotlib.lines.Line2D at 0x7fb9ab1eed68>,\n",
       " <matplotlib.lines.Line2D at 0x7fb9ab1eef60>,\n",
       " <matplotlib.lines.Line2D at 0x7fb9ab1f2198>,\n",
       " <matplotlib.lines.Line2D at 0x7fb9ab1f2390>,\n",
       " <matplotlib.lines.Line2D at 0x7fb9ab1f2588>,\n",
       " <matplotlib.lines.Line2D at 0x7fb9ab1f2780>,\n",
       " <matplotlib.lines.Line2D at 0x7fb9ab1f2978>,\n",
       " <matplotlib.lines.Line2D at 0x7fb9ab1f2b70>,\n",
       " <matplotlib.lines.Line2D at 0x7fb9ab1f2d68>,\n",
       " <matplotlib.lines.Line2D at 0x7fb9ab1f2f28>]"
      ]
     },
     "execution_count": 6,
     "metadata": {},
     "output_type": "execute_result"
    },
    {
     "data": {
      "image/png": "[encoded data removed]",
      "text/plain": [
       "<matplotlib.figure.Figure at 0x7fb9ab34b7b8>"
      ]
     },
     "metadata": {},
     "output_type": "display_data"
    }
   ],
   "source": [
    "x=agent_opinion.Opinion0.as_matrix().reshape((nsteps, nagents))\n",
    "plt.plot(x)"
   ]
  }
 ],
 "metadata": {
  "kernelspec": {
   "display_name": "Python 3",
   "language": "python",
   "name": "python3"
  },
  "language_info": {
   "codemirror_mode": {
    "name": "ipython",
    "version": 3
   },
   "file_extension": ".py",
   "mimetype": "text/x-python",
   "name": "python",
   "nbconvert_exporter": "python",
   "pygments_lexer": "ipython3",
   "version": "3.5.2"
  }
 },
 "nbformat": 4,
 "nbformat_minor": 1
}
